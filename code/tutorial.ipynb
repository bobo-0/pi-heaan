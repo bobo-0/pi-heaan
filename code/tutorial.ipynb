{
 "cells": [
  {
   "cell_type": "code",
   "execution_count": 2,
   "metadata": {},
   "outputs": [],
   "source": [
    "import piheaan\n",
    "import os"
   ]
  },
  {
   "cell_type": "code",
   "execution_count": 6,
   "metadata": {},
   "outputs": [],
   "source": [
    "params = piheaan.ParameterPreset.FGb \n",
    "context = piheaan.make_context(params) \n",
    "piheaan.make_bootstrappable(context) \n",
    "\n",
    "# parameter 정보는 https://heaan.it/ 에서 확인 가능"
   ]
  },
  {
   "cell_type": "code",
   "execution_count": 8,
   "metadata": {},
   "outputs": [],
   "source": [
    "#키생성\n",
    "sk = piheaan.SecretKey(context) \n",
    "key_file_path = \"./key\" \n",
    "os.makedirs(key_file_path, mode=0o775, exist_ok=True) \n",
    "log_num_slot = piheaan.get_log_full_slots(context) \n",
    "num_slot = 1 << log_num_slot \n",
    "sk.save(key_file_path+\"/secretkey.bin\") \n",
    "sk = piheaan.SecretKey(context,key_file_path+\"/secretkey.bin\") \n",
    "key_generator = piheaan.KeyGenerator(context, sk) \n",
    "key_generator.gen_common_keys() \n",
    "key_generator.save(key_file_path + \"/\")"
   ]
  },
  {
   "cell_type": "code",
   "execution_count": 9,
   "metadata": {},
   "outputs": [],
   "source": [
    "\n",
    "#생성된 키 받아오기\n",
    "sk = piheaan.SecretKey(context) \n",
    "key_file_path = \"./key\" \n",
    "log_num_slot = piheaan.get_log_full_slots(context) \n",
    "num_slot = 1 << log_num_slot \n",
    "sk = piheaan.SecretKey(context,key_file_path+\"/secretkey.bin\")\n",
    "\n",
    "keypack = piheaan.KeyPack(context, key_file_path+\"/\") \n",
    "keypack.load_enc_key() \n",
    "keypack.load_mult_key() \n",
    "eval = piheaan.HomEvaluator(context,keypack) \n",
    "dec = piheaan.Decryptor(context) \n",
    "enc = piheaan.Encryptor(context)"
   ]
  },
  {
   "cell_type": "code",
   "execution_count": 19,
   "metadata": {},
   "outputs": [],
   "source": [
    "#1로 가득 찬 암호문 만들기\n",
    "one_ = [1]*num_slot\n",
    "one_msg = piheaan.Message(log_num_slot)\n",
    "for k in range(num_slot):\n",
    "    one_msg[k] = one_[k]\n",
    "\n",
    "one_ctxt = piheaan.Ciphertext(context)\n",
    "enc.encrypt(one_msg, keypack, one_ctxt)\n",
    "\n",
    "#2로 가득 찬 암호문 만들기\n",
    "two_ = [2]*num_slot\n",
    "two_msg = piheaan.Message(log_num_slot)\n",
    "for k in range(num_slot):\n",
    "    two_msg[k] = two_[k]\n",
    "\n",
    "two_ctxt = piheaan.Ciphertext(context)\n",
    "enc.encrypt(two_msg, keypack, two_ctxt)"
   ]
  },
  {
   "cell_type": "code",
   "execution_count": 20,
   "metadata": {},
   "outputs": [
    {
     "name": "stdout",
     "output_type": "stream",
     "text": [
      "(3+0j)\n",
      "(3+0j)\n",
      "(3+0j)\n",
      "(3+0j)\n",
      "(3+0j)\n"
     ]
    }
   ],
   "source": [
    "#1+2\n",
    "result_add = piheaan.Ciphertext(context)\n",
    "eval.add(one_ctxt, two_ctxt, result_add)\n",
    "\n",
    "add_msg = piheaan.Message(log_num_slot)\n",
    "dec.decrypt(result_add,sk,add_msg)\n",
    "\n",
    "for i in range(0,5):\n",
    "\tprint(add_msg[i])"
   ]
  },
  {
   "cell_type": "code",
   "execution_count": 22,
   "metadata": {},
   "outputs": [
    {
     "name": "stdout",
     "output_type": "stream",
     "text": [
      "(2+0j)\n",
      "(2+0j)\n",
      "(2+0j)\n",
      "(2+0j)\n",
      "(2+0j)\n"
     ]
    }
   ],
   "source": [
    "#1*2\n",
    "result_mult = piheaan.Ciphertext(context)\n",
    "eval.mult(one_ctxt, two_ctxt, result_mult)\n",
    "\n",
    "mult_msg = piheaan.Message(log_num_slot)\n",
    "dec.decrypt(result_mult,sk,mult_msg)\n",
    "\n",
    "for i in range(0,5):\n",
    "\tprint(mult_msg[i])"
   ]
  }
 ],
 "metadata": {
  "kernelspec": {
   "display_name": "Python 3.8.9 64-bit",
   "language": "python",
   "name": "python3"
  },
  "language_info": {
   "codemirror_mode": {
    "name": "ipython",
    "version": 3
   },
   "file_extension": ".py",
   "mimetype": "text/x-python",
   "name": "python",
   "nbconvert_exporter": "python",
   "pygments_lexer": "ipython3",
   "version": "3.8.9"
  },
  "orig_nbformat": 4,
  "vscode": {
   "interpreter": {
    "hash": "31f2aee4e71d21fbe5cf8b01ff0e069b9275f58929596ceb00d14d90e3e16cd6"
   }
  }
 },
 "nbformat": 4,
 "nbformat_minor": 2
}
