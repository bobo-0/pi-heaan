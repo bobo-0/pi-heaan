{
 "cells": [
  {
   "cell_type": "code",
   "execution_count": 1,
   "metadata": {},
   "outputs": [],
   "source": [
    "import piheaan\n",
    "import os\n",
    "import numpy as np"
   ]
  },
  {
   "cell_type": "code",
   "execution_count": 2,
   "metadata": {},
   "outputs": [],
   "source": [
    "params = piheaan.ParameterPreset.FGb \n",
    "context = piheaan.make_context(params) \n",
    "piheaan.make_bootstrappable(context) "
   ]
  },
  {
   "cell_type": "code",
   "execution_count": 3,
   "metadata": {},
   "outputs": [],
   "source": [
    "#튜토리얼 파일에서 생성된 키 받아오기\n",
    "sk = piheaan.SecretKey(context) \n",
    "key_file_path = \"./key\" \n",
    "log_num_slot = piheaan.get_log_full_slots(context) \n",
    "num_slot = 1 << log_num_slot \n",
    "sk = piheaan.SecretKey(context,key_file_path+\"/secretkey.bin\")\n",
    "\n",
    "keypack = piheaan.KeyPack(context, key_file_path+\"/\") \n",
    "keypack.load_enc_key() \n",
    "keypack.load_mult_key() \n",
    "eval = piheaan.HomEvaluator(context,keypack) \n",
    "dec = piheaan.Decryptor(context) \n",
    "enc = piheaan.Encryptor(context)"
   ]
  },
  {
   "cell_type": "code",
   "execution_count": 4,
   "metadata": {},
   "outputs": [],
   "source": [
    "#0~num_slot*0.0001까지 1씩 증가하게 암호문 만들기\n",
    "input_msg = piheaan.Message(log_num_slot)\n",
    "for k in range(num_slot):\n",
    "    input_msg[k] = k*0.0001\n",
    "\n",
    "input_ctxt = piheaan.Ciphertext(context)\n",
    "enc.encrypt(input_msg, keypack, input_ctxt)"
   ]
  },
  {
   "cell_type": "code",
   "execution_count": 5,
   "metadata": {},
   "outputs": [
    {
     "name": "stdout",
     "output_type": "stream",
     "text": [
      "동형암호 연산 평균 결과 :  1.6383500000000002\n",
      "평문 연산 평균 결과 :  1.63835\n"
     ]
    }
   ],
   "source": [
    "# 평균 함수\n",
    "# 1. 전체 슬롯의 합 구하기\n",
    "def enc_mean(input_ctxt):\n",
    "    duplicate_input = piheaan.Ciphertext(input_ctxt)\n",
    "\n",
    "    tmp_ctxt = piheaan.Ciphertext(context)\n",
    "    for i in range(int(np.log2(num_slot))):\n",
    "        eval.left_rotate(duplicate_input, 2**i, tmp_ctxt)\n",
    "        eval.bootstrap(duplicate_input,duplicate_input)\n",
    "        eval.bootstrap(tmp_ctxt,tmp_ctxt)\n",
    "\n",
    "        eval.add(duplicate_input, tmp_ctxt, duplicate_input)\n",
    "\n",
    "    # 잘 더해졌는지 확인\n",
    "    # check_msg = piheaan.Message(log_num_slot)\n",
    "    # dec.decrypt(input_ctxt,sk,check_msg)\n",
    "    # print(check_msg[:5])\n",
    "\n",
    "    # 2. 전체 개수로 나눠주기\n",
    "    eval.mult(duplicate_input,1/num_slot,duplicate_input)\n",
    "    eval.bootstrap(duplicate_input,duplicate_input)\n",
    "\n",
    "    return duplicate_input\n",
    "\n",
    "mean_ctxt = enc_mean(input_ctxt)\n",
    "mean_msg = piheaan.Message(log_num_slot)\n",
    "dec.decrypt(mean_ctxt,sk,mean_msg)\n",
    "\n",
    "# 평문에서의 평균 구하기\n",
    "msg = [i*0.0001 for i in range(0,num_slot)]\n",
    "plain_mean = np.mean(msg)\n",
    "\n",
    "print(\"동형암호 연산 평균 결과 : \", mean_msg[0].real)\n",
    "print(\"평문 연산 평균 결과 : \", plain_mean)"
   ]
  },
  {
   "cell_type": "code",
   "execution_count": 6,
   "metadata": {},
   "outputs": [
    {
     "name": "stdout",
     "output_type": "stream",
     "text": [
      "동형암호 연산 분산 결과 :  0.8947848524999991\n",
      "평문 연산 분산 결과 :  0.8948121600000002\n"
     ]
    }
   ],
   "source": [
    "# 분산 구하기 (제평-평제)\n",
    "# 1. 인풋 제곱의 평균 구하기\n",
    "square_ctxt = piheaan.Ciphertext(input_ctxt)\n",
    "eval.mult(input_ctxt,square_ctxt,square_ctxt)\n",
    "\n",
    "eval.bootstrap(square_ctxt,square_ctxt)\n",
    "\n",
    "square_mean = enc_mean(square_ctxt)\n",
    "\n",
    "# 2. 평균의 제곱 구하기\n",
    "mean_square = piheaan.Ciphertext(context)\n",
    "eval.mult(mean_ctxt,mean_ctxt,mean_square)\n",
    "\n",
    "eval.bootstrap(mean_square,mean_square)\n",
    "\n",
    "# 3. 1-2\n",
    "var_ctxt = piheaan.Ciphertext(context)\n",
    "eval.mult(mean_square,-1,mean_square)\n",
    "\n",
    "eval.add(square_mean,mean_square,var_ctxt)\n",
    "var_msg = piheaan.Message(log_num_slot)\n",
    "dec.decrypt(var_ctxt,sk,var_msg)\n",
    "\n",
    "# 평문에서의 분산 구하기\n",
    "plain_var = np.var(msg,ddof=1)\n",
    "\n",
    "print(\"동형암호 연산 분산 결과 : \", var_msg[0].real)\n",
    "print(\"평문 연산 분산 결과 : \", plain_var)"
   ]
  },
  {
   "cell_type": "code",
   "execution_count": 7,
   "metadata": {},
   "outputs": [
    {
     "name": "stdout",
     "output_type": "stream",
     "text": [
      "동형암호 연산 표준편차 결과 :  0.9459306805997991\n",
      "평문 연산 표준편차 결과 :  0.9459451146868936\n"
     ]
    }
   ],
   "source": [
    "# 표준편차\n",
    "\n",
    "std_ctxt = piheaan.Ciphertext(context)\n",
    "piheaan.math.approx.sqrt(eval,var_ctxt,std_ctxt)\n",
    "\n",
    "std_msg = piheaan.Message(log_num_slot)\n",
    "dec.decrypt(std_ctxt,sk,std_msg)\n",
    "\n",
    "# 평문에서의 표준편차 구하기\n",
    "plain_std = np.std(msg,ddof=1)\n",
    "\n",
    "print(\"동형암호 연산 표준편차 결과 : \", std_msg[0].real)\n",
    "print(\"평문 연산 표준편차 결과 : \", plain_std)"
   ]
  }
 ],
 "metadata": {
  "kernelspec": {
   "display_name": "Python 3.8.9 64-bit",
   "language": "python",
   "name": "python3"
  },
  "language_info": {
   "codemirror_mode": {
    "name": "ipython",
    "version": 3
   },
   "file_extension": ".py",
   "mimetype": "text/x-python",
   "name": "python",
   "nbconvert_exporter": "python",
   "pygments_lexer": "ipython3",
   "version": "3.8.9"
  },
  "orig_nbformat": 4,
  "vscode": {
   "interpreter": {
    "hash": "31f2aee4e71d21fbe5cf8b01ff0e069b9275f58929596ceb00d14d90e3e16cd6"
   }
  }
 },
 "nbformat": 4,
 "nbformat_minor": 2
}
